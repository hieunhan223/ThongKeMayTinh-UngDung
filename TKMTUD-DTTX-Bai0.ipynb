{
 "cells": [
  {
   "cell_type": "markdown",
   "metadata": {},
   "source": [
    "# THỐNG KÊ MÁY TÍNH VÀ ỨNG DỤNG (ĐTTX)\n",
    "\n",
    "**Khoa Công nghệ Thông tin - ĐH Khoa học Tự nhiên TP. HCM ([fit@hcmus](https://www.fit.hcmus.edu.vn/))**\n",
    "\n",
    "*Giảng viên: Vũ Quốc Hoàng (vqhoang@fit.hcmus.edu.vn)*"
   ]
  },
  {
   "cell_type": "markdown",
   "metadata": {},
   "source": [
    "# BÀI 0 - GIỚI THIỆU MÔN HỌC VÀ MÔI TRƯỜNG THỰC HÀNH"
   ]
  },
  {
   "cell_type": "markdown",
   "metadata": {},
   "source": [
    "**Nội dung**\n",
    "\n",
    "* [Giới thiệu môn học](#gioi_thieu_mon_hoc)\n",
    "  * [Nội dung môn học](#noi_dung_mon_hoc)\n",
    "  * [Thang điểm](#thang_diem)\n",
    "  * [Giáo trình](#giao_trinh)\n",
    "* [Môi trường thực hành](#moi_truong_thuc_hanh)\n",
    "  * [Python và các thư viện](#python_va_cac_thu_vien)\n",
    "  * [Jupyter Notebook](#jupyter_notebook)\n",
    "  * [Google Colab](#google_colab)\n",
    "  * [Anaconda, Visual Studio Code và Jupyter Extension](#anaconda)"
   ]
  },
  {
   "cell_type": "markdown",
   "metadata": {},
   "source": [
    "## <a name=\"gioi_thieu_mon_hoc\"/>Giới thiệu môn học"
   ]
  },
  {
   "cell_type": "markdown",
   "metadata": {},
   "source": [
    "**Trực tuyến**: <strong style=\"color:red\">19:15 - 21:00 Thứ 5 hằng tuần / 15 tuần.</strong>\n",
    "\n",
    "**Quy định**\n",
    "1. Xem Mbook và đọc các nội dung được yêu cầu trước buổi học trực tuyến\n",
    "1. Làm bài tập ở nhà đầy đủ và nộp bài đúng hạn\n",
    "1. Tham dự đầy đủ các buổi học trực tuyến\n",
    "1. Trao đổi và thảo luận sôi nổi\n",
    "\n",
    "<strong style=\"color:red\">\n",
    "Bất kỳ trường hợp sao chép bài bị phát hiện trong quá trình học, làm bài tập, thi, ... sẽ bị 0 điểm môn học.\n",
    "</strong>"
   ]
  },
  {
   "cell_type": "markdown",
   "metadata": {},
   "source": [
    "### <a name=\"noi_dung_mon_hoc\"/>Nội dung môn học"
   ]
  },
  {
   "cell_type": "markdown",
   "metadata": {},
   "source": [
    "1. Phần 1: Ôn tập Python và các cấu trúc dữ liệu\n",
    "2. Phần 2: Xử lý, thống kê và trực quan hóa dữ liệu với NumPy, SciPy, pandas, Matplotlib, seaborn\n",
    "3. Phần 3: Học máy và một số mô hình phân tích dữ liệu cơ bản với statsmodels, scikit-learn\n",
    "\n",
    "**Ngôn ngữ lập trình**: Python (với Jupyter Notebook)."
   ]
  },
  {
   "cell_type": "markdown",
   "metadata": {},
   "source": [
    "### <a name=\"thang_diem\"/>Thang điểm"
   ]
  },
  {
   "cell_type": "markdown",
   "metadata": {},
   "source": [
    "* 50% - 70%: 2-4 bài tập lớn trong quá trình học\n",
    "* 30% - 50%: thi cuối kỳ hoặc đồ án (cá nhân hoặc nhóm, có vấn đáp hoặc không)\n",
    "* Điểm cộng trong các buổi học trực tuyến"
   ]
  },
  {
   "cell_type": "markdown",
   "metadata": {},
   "source": [
    "### <a name=\"giao_trinh\"/>Giáo trình"
   ]
  },
  {
   "cell_type": "markdown",
   "metadata": {},
   "source": [
    "1. [Bí kíp luyện Lập trình nhập môn với Python (hBook)](https://github.com/vqhBook/python)\n",
    "1. [Python Data Science Handbook (Jake VanderPlas)](https://www.amazon.com/Python-Data-Science-Handbook-Essential-dp-1098121228/dp/1098121228/)\n",
    "1. và các tài liệu được giao khác"
   ]
  },
  {
   "cell_type": "markdown",
   "metadata": {},
   "source": [
    "## <a name=\"moi_truong_thuc_hanh\"/>Môi trường thực hành"
   ]
  },
  {
   "cell_type": "markdown",
   "metadata": {},
   "source": [
    "### <a name=\"python_va_cac_thu_vien\"/>Python và các thư viện"
   ]
  },
  {
   "cell_type": "markdown",
   "metadata": {},
   "source": [
    "[Python](https://www.python.org/) là ngôn ngữ lập trình được dùng phổ biến cho **tính toán khoa học** (scientific computing), **phân tích dữ liệu** (data analysis) và nhiều mục đích khác. Tài liệu tra cứu chính thống của Python được để ở [Python documentation](https://docs.python.org/3/index.html). Có thể dùng hướng dẫn [The Python Tutorial](https://docs.python.org/3/tutorial/) để học nhanh Python. Một số nguồn tham khảo khác: [Python3 Tutorial](https://www.python-course.eu/python3_course.php), [Numerical Programming with Python](https://www.python-course.eu/numerical_programming_with_python.php), [GeeksforGeeks](https://www.geeksforgeeks.org/python-programming-language/), ..."
   ]
  },
  {
   "cell_type": "markdown",
   "metadata": {},
   "source": [
    "Các thư viện Python phổ biến dùng trong tính toán khoa học và phân tích dữ liệu là: [NumPy](https://numpy.org/), [SciPy](https://www.scipy.org/), [SymPy](https://www.sympy.org/en/index.html), [statsmodels](https://www.statsmodels.org/stable/index.html), [pandas](https://pandas.pydata.org/), [scikit-learn](https://scikit-learn.org/stable/), [Matplotlib](https://matplotlib.org/), [seaborn](https://seaborn.pydata.org/), ..."
   ]
  },
  {
   "cell_type": "markdown",
   "metadata": {},
   "source": [
    "### <a name=\"jupyter_notebook\"/>Jupyter Notebook"
   ]
  },
  {
   "cell_type": "markdown",
   "metadata": {},
   "source": [
    "[Jupyter](https://jupyter.org/) là nền tảng, dịch vụ **tính toán tương tác** (interactive computing) hỗ trợ rất nhiều ngôn ngữ lập trình (Julia, Python, R, ...). [Jupyter Notebook](https://jupyter-notebook.readthedocs.io/en/stable/), hay mới hơn là [JupyterLab](https://jupyterlab.readthedocs.io/en/latest/), là các ứng dụng Web giúp làm việc với các file notebook."
   ]
  },
  {
   "cell_type": "markdown",
   "metadata": {},
   "source": [
    "[Jupyter notebook](https://jupyterlab.readthedocs.io/en/latest/user/notebook.html) (file `.ipynb`) là tài liệu kết hợp nhiều định dạng: văn bản thô, văn bản có định dạng, biểu đồ, công thức, ... và đặc biệt là **mã thực thi** (code) có thể được viết bằng nhiều ngôn ngữ khác nhau. Jupyter notebook là tài liệu động và có tính tương tác nên rất phù hợp với các văn bản, trình bày tính toán khoa học. Jupyter notebook cũng có thể được kết xuất ra nhiều định dạng phổ biến khác nhau (PDF, HTML, LaTex, ...)."
   ]
  },
  {
   "cell_type": "markdown",
   "metadata": {},
   "source": [
    "Jupyter notebook hỗ trợ định dạng văn bản [Markdown](https://www.markdownguide.org/basic-syntax/) và [HTML](https://www.w3schools.com/html/); hỗ trợ định dạng công thức Toán [LaTeX](https://en.wikibooks.org/wiki/LaTeX/Mathematics). \n",
    "\n",
    "Tham khảo: [Learn How to Write Markdown & LaTeX in The Jupyter Notebook](https://towardsdatascience.com/write-markdown-latex-in-the-jupyter-notebook-10985edb91fd)."
   ]
  },
  {
   "cell_type": "markdown",
   "metadata": {},
   "source": [
    "Ví dụ đoạn mã Python sau tính giá trị $2^{64}$. Ta cũng có\n",
    "$$\n",
    "\\sum_{i=0}^{63} 2^i = 2^{64} - 1.\n",
    "$$"
   ]
  },
  {
   "cell_type": "code",
   "execution_count": 1,
   "metadata": {},
   "outputs": [
    {
     "data": {
      "text/plain": [
       "18446744073709551616"
      ]
     },
     "execution_count": 1,
     "metadata": {},
     "output_type": "execute_result"
    }
   ],
   "source": [
    "2**64"
   ]
  },
  {
   "cell_type": "code",
   "execution_count": 2,
   "metadata": {},
   "outputs": [
    {
     "data": {
      "text/plain": [
       "18446744073709551615"
      ]
     },
     "execution_count": 2,
     "metadata": {},
     "output_type": "execute_result"
    }
   ],
   "source": [
    "sum(2**i for i in range(64))"
   ]
  },
  {
   "cell_type": "markdown",
   "metadata": {},
   "source": [
    "### <a name=\"google_colab\"/>Google Colab"
   ]
  },
  {
   "cell_type": "markdown",
   "metadata": {},
   "source": [
    "**Colab** (Colaboratory) là dịch vụ Web của Google giúp làm việc với Jupyter Notebook mà không cần cài đặt. Colab hỗ trợ miễn phí các dịch vụ cơ bản (bao gồm **GPU**). Colab tích hợp với **Google Drive** trong việc lưu trữ, quản lý và chia sẻ các notebook.\n",
    "\n",
    "Tham khảo: [Welcome To Colab](https://colab.research.google.com/)."
   ]
  },
  {
   "cell_type": "markdown",
   "metadata": {},
   "source": [
    "### <a name=\"anaconda\"/>Anaconda, Visual Studio Code và Jupyter Extension"
   ]
  },
  {
   "cell_type": "markdown",
   "metadata": {},
   "source": [
    "[Anaconda](https://www.anaconda.com/) là môi trường quản lý các công cụ, thư viện, package, module Python/R cho **tính toán khoa học** (scientific computing) và **khoa học dữ liệu** (data science). Anaconda hỗ trợ hầu hết các nền tảng (Windows, macOS, Linux). Tải và cài đặt phiên bản cá nhân ([Individual Edition](https://www.anaconda.com/products/individual)) miễn phí. Nên dùng bản hỗ trợ Python mới nhất. Anaconda tự động cài Jupyter Notebook và JupyterLab."
   ]
  },
  {
   "cell_type": "markdown",
   "metadata": {},
   "source": [
    "[VS Code (Visual Studio Code)](https://code.visualstudio.com/) là công cụ soạn thảo mã nguồn miễn phí của Microsoft. VS Code hiện được dùng rất phổ biến.\n",
    "\n",
    "Sau khi cài Python (cùng Anaconda nếu cần) và VS Code, cần cài thêm [Jupyter Extension](https://marketplace.visualstudio.com/items?itemName=ms-toolsai.jupyter) để làm việc với notebook trong VS Code.\n",
    "\n",
    "Tham khảo: [Working with Jupyter Notebooks in Visual Studio Code](https://code.visualstudio.com/docs/datascience/jupyter-notebooks)."
   ]
  }
 ],
 "metadata": {
  "kernelspec": {
   "display_name": "base",
   "language": "python",
   "name": "python3"
  },
  "language_info": {
   "codemirror_mode": {
    "name": "ipython",
    "version": 3
   },
   "file_extension": ".py",
   "mimetype": "text/x-python",
   "name": "python",
   "nbconvert_exporter": "python",
   "pygments_lexer": "ipython3",
   "version": "3.10.11"
  }
 },
 "nbformat": 4,
 "nbformat_minor": 4
}
