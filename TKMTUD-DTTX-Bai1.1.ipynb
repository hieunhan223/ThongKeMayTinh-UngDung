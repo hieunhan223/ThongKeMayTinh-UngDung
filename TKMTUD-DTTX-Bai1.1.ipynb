{
 "cells": [
  {
   "cell_type": "markdown",
   "metadata": {},
   "source": [
    "# THỐNG KÊ MÁY TÍNH VÀ ỨNG DỤNG (ĐTTX)\n",
    "\n",
    "**Khoa Công nghệ Thông tin - ĐH Khoa học Tự nhiên TP. HCM ([fit@hcmus](https://www.fit.hcmus.edu.vn/))**\n",
    "\n",
    "*Giảng viên: Vũ Quốc Hoàng (vqhoang@fit.hcmus.edu.vn)*"
   ]
  },
  {
   "cell_type": "markdown",
   "metadata": {},
   "source": [
    "# BÀI 1 - ÔN TẬP PYTHON (Phần 1)"
   ]
  },
  {
   "cell_type": "markdown",
   "metadata": {},
   "source": [
    "**Nội dung**\n",
    "\n",
    "* [Các vấn đề cơ bản](#cac_van_de_co_ban)\n",
    "  * [Tính toán đơn giản](#tinh_toan_don_gian)\n",
    "  * [Ghi nhớ với biến](#ghi_nho_voi_bien)\n",
    "  * [Tính toán nâng cao](#tinh_toan_nang_cao)\n",
    "* [Lập trình Python](#lap_trinh_python)\n",
    "  * [Lệnh và nhập xuất](#lenh_va_nhap_xuat)\n",
    "  * [Cấu trúc chọn](#cau_truc_chon)\n",
    "  * [Cấu trúc lặp](#cau_truc_lap)\n",
    "\n",
    "**Tài liệu tham khảo**\n",
    "\n",
    "* Bài 1 đến Bài 7 [Bí kíp luyện Lập trình nhập môn với Python (hBook)](https://github.com/vqhBook/python) \n",
    "  (Các bài tập rèn luyện dưới đây được lấy từ tài liệu này.)"
   ]
  },
  {
   "cell_type": "markdown",
   "metadata": {},
   "source": [
    "## <a name=\"cac_van_de_co_ban\"/>Các vấn đề cơ bản"
   ]
  },
  {
   "cell_type": "code",
   "execution_count": 3,
   "metadata": {},
   "outputs": [
    {
     "name": "stdout",
     "output_type": "stream",
     "text": [
      "Hello World!\n",
      "Hello World!\n"
     ]
    }
   ],
   "source": [
    "# ghi chú trong Python bắt đầu bằng dấu #\n",
    "# chuỗi được mô tả bằng dấu nháy kép \"...\" hoặc nháy đơn '...' \n",
    "print(\"Hello World!\")\n",
    "print('Hello World!')"
   ]
  },
  {
   "cell_type": "code",
   "execution_count": 4,
   "metadata": {},
   "outputs": [
    {
     "name": "stdout",
     "output_type": "stream",
     "text": [
      "Tôi yêu bạn!\n",
      "I ♥ you!\n",
      "我爱你\n",
      "ฉันรักคุณ\n"
     ]
    }
   ],
   "source": [
    "# Python hỗ trợ Unicode rất tốt\n",
    "print(\"Tôi yêu bạn!\", \"I \\u2665 you!\", \"我爱你\", \"ฉันรักคุณ\", sep=\"\\n\")"
   ]
  },
  {
   "cell_type": "code",
   "execution_count": 5,
   "metadata": {},
   "outputs": [
    {
     "data": {
      "text/plain": [
       "'Hello World!Hello World!Hello World!Hello World!Hello World!'"
      ]
     },
     "execution_count": 5,
     "metadata": {},
     "output_type": "execute_result"
    }
   ],
   "source": [
    "# IPython tự xuất kết quả (của lệnh cuối cùng) trong notebook mà không cần print\n",
    "\"Hello World!\" * 5"
   ]
  },
  {
   "cell_type": "code",
   "execution_count": 6,
   "metadata": {},
   "outputs": [],
   "source": [
    "# nếu không muốn IPython tự động xuất kết quả thì dùng dấu ;\n",
    "\"Hello World!\" * 100;"
   ]
  },
  {
   "attachments": {},
   "cell_type": "markdown",
   "metadata": {},
   "source": [
    "### <a name=\"tinh_toan_don_gian\"/>Tính toán đơn giản"
   ]
  },
  {
   "cell_type": "code",
   "execution_count": 7,
   "metadata": {},
   "outputs": [
    {
     "data": {
      "text/plain": [
       "1"
      ]
     },
     "execution_count": 7,
     "metadata": {},
     "output_type": "execute_result"
    }
   ],
   "source": [
    "# các phép toán cơ bản: cộng, trừ, nhân, chia\n",
    "# // là chia lấy phần nguyên, % là chia lấy phần dư\n",
    "1 + 2 - 3 * 4 // 5 % 6"
   ]
  },
  {
   "cell_type": "code",
   "execution_count": 8,
   "metadata": {},
   "outputs": [
    {
     "data": {
      "text/plain": [
       "0.5"
      ]
     },
     "execution_count": 8,
     "metadata": {},
     "output_type": "execute_result"
    }
   ],
   "source": [
    "# / là phép chia thực (được số thực)\n",
    "1 / 2"
   ]
  },
  {
   "cell_type": "code",
   "execution_count": 9,
   "metadata": {},
   "outputs": [
    {
     "data": {
      "text/plain": [
       "-0.75"
      ]
     },
     "execution_count": 9,
     "metadata": {},
     "output_type": "execute_result"
    }
   ],
   "source": [
    "# Python dùng dấu chấm thập phân (chứ không phải dấy phẩy)\n",
    "0.5 * -(0.5 + 1)"
   ]
  },
  {
   "cell_type": "code",
   "execution_count": 10,
   "metadata": {},
   "outputs": [
    {
     "data": {
      "text/plain": [
       "18446744073709551616"
      ]
     },
     "execution_count": 10,
     "metadata": {},
     "output_type": "execute_result"
    }
   ],
   "source": [
    "# ** là phép mũ\n",
    "# số nguyên trong Python có độ lớn tùy ý\n",
    "2**64"
   ]
  },
  {
   "attachments": {},
   "cell_type": "markdown",
   "metadata": {},
   "source": [
    "Tính $\\sqrt 2 = 2^{\\frac{1}{2}}$"
   ]
  },
  {
   "cell_type": "code",
   "execution_count": 11,
   "metadata": {},
   "outputs": [
    {
     "data": {
      "text/plain": [
       "1.4142135623730951"
      ]
     },
     "execution_count": 11,
     "metadata": {},
     "output_type": "execute_result"
    }
   ],
   "source": [
    "2 ** 0.5"
   ]
  },
  {
   "cell_type": "code",
   "execution_count": 12,
   "metadata": {},
   "outputs": [
    {
     "name": "stdout",
     "output_type": "stream",
     "text": [
      "1.0\n",
      "1.4142135623730951\n",
      "262144 262144\n",
      "4096 4096\n"
     ]
    }
   ],
   "source": [
    "# lưu ý về độ ưu tiên và tính kết hợp của các toán tử\n",
    "print(2 ** 1/2)             # là (2 ** 1)/2 = 2/2\n",
    "print(2 ** (1/2))           # là 2 ** 0.5\n",
    "print(4**3**2, 4**9)        # là 4**(3**2) = 4**9\n",
    "print((4**3)**2, 4**(3*2))"
   ]
  },
  {
   "attachments": {},
   "cell_type": "markdown",
   "metadata": {},
   "source": [
    "### <a name=\"ghi_nho_voi_bien\"/>Ghi nhớ với biến"
   ]
  },
  {
   "attachments": {},
   "cell_type": "markdown",
   "metadata": {},
   "source": [
    "$(2 - \\sqrt 3)(2 + \\sqrt 3) = 2^2 - (\\sqrt 3)^2 = 4 - 3 = 1$"
   ]
  },
  {
   "cell_type": "code",
   "execution_count": 13,
   "metadata": {},
   "outputs": [
    {
     "data": {
      "text/plain": [
       "1.0000000000000004"
      ]
     },
     "execution_count": 13,
     "metadata": {},
     "output_type": "execute_result"
    }
   ],
   "source": [
    "a = 2 - 3**0.5\n",
    "b = 2 + 3**0.5\n",
    "a * b"
   ]
  },
  {
   "cell_type": "code",
   "execution_count": 14,
   "metadata": {},
   "outputs": [
    {
     "name": "stdout",
     "output_type": "stream",
     "text": [
      "1.000\n"
     ]
    }
   ],
   "source": [
    "# lưu ý: số thực trong Python là số gần đúng\n",
    "print(f\"{a*b:.3f}\")"
   ]
  },
  {
   "cell_type": "code",
   "execution_count": 15,
   "metadata": {},
   "outputs": [
    {
     "name": "stdout",
     "output_type": "stream",
     "text": [
      "1.414213562373095 1.4142135623730951\n"
     ]
    }
   ],
   "source": [
    "# Tính căn\n",
    "x = 2\n",
    "\n",
    "y = x\n",
    "y = y/2 + x/(2*y)\n",
    "y = y/2 + x/(2*y)\n",
    "y = y/2 + x/(2*y)\n",
    "y = y/2 + x/(2*y)\n",
    "y = y/2 + x/(2*y)\n",
    "\n",
    "print(y, x**0.5)"
   ]
  },
  {
   "attachments": {},
   "cell_type": "markdown",
   "metadata": {},
   "source": [
    "**Bài tập 2.4** \n",
    "\n",
    "*(Các bài tập này sinh viên tự rèn luyện, có thể được điểm cộng trong giờ học trực tuyến.)*"
   ]
  },
  {
   "cell_type": "code",
   "execution_count": 16,
   "metadata": {},
   "outputs": [],
   "source": [
    "# TODO\n"
   ]
  },
  {
   "attachments": {},
   "cell_type": "markdown",
   "metadata": {},
   "source": [
    "### <a name=\"tinh_toan_nang_cao\"/>Tính toán nâng cao"
   ]
  },
  {
   "attachments": {},
   "cell_type": "markdown",
   "metadata": {},
   "source": [
    "Dùng hàm dựng sẵn (built-in function)"
   ]
  },
  {
   "cell_type": "code",
   "execution_count": 17,
   "metadata": {},
   "outputs": [
    {
     "name": "stdout",
     "output_type": "stream",
     "text": [
      "1.4142135623730951\n",
      "2.0000000000000004\n",
      "False\n",
      "4.440892098500626e-16\n",
      "True\n",
      "True\n"
     ]
    }
   ],
   "source": [
    "a = 2**0.5\n",
    "print(a)\n",
    "print(a ** 2)\n",
    "print(a ** 2 == 2)\n",
    "print(a**2 - 2)\n",
    "print(abs(a**2 - 2) < 10**-9)   # gọi hàm abs(x) để tính |x|\n",
    "print(round(a**2, 9) == 2)      # gọi hàm round(x, d) để làm tròn x đến chữ số d sau dấu thập phân"
   ]
  },
  {
   "attachments": {},
   "cell_type": "markdown",
   "metadata": {},
   "source": [
    "Dùng thư viện (module, library)"
   ]
  },
  {
   "cell_type": "code",
   "execution_count": 18,
   "metadata": {},
   "outputs": [],
   "source": [
    "import math     # nạp module math hỗ trợ nhiều tính toán nâng cao (chỉ cần nạp một lần)"
   ]
  },
  {
   "cell_type": "code",
   "execution_count": 19,
   "metadata": {},
   "outputs": [
    {
     "data": {
      "text/plain": [
       "True"
      ]
     },
     "execution_count": 19,
     "metadata": {},
     "output_type": "execute_result"
    }
   ],
   "source": [
    "math.isclose(a**2, 2)   # hàm isclose của module math giúp kiểm tra 2 số có rất gần nhau "
   ]
  },
  {
   "attachments": {},
   "cell_type": "markdown",
   "metadata": {},
   "source": [
    "Tính $n! = 1\\times 2 \\times 3 \\times \\ldots \\times (n - 1)\\times n$"
   ]
  },
  {
   "cell_type": "code",
   "execution_count": 20,
   "metadata": {},
   "outputs": [
    {
     "ename": "ValueError",
     "evalue": "invalid literal for int() with base 10: ''",
     "output_type": "error",
     "traceback": [
      "\u001b[0;31m---------------------------------------------------------------------------\u001b[0m",
      "\u001b[0;31mValueError\u001b[0m                                Traceback (most recent call last)",
      "Cell \u001b[0;32mIn[20], line 1\u001b[0m\n\u001b[0;32m----> 1\u001b[0m n \u001b[38;5;241m=\u001b[39m \u001b[38;5;28;43mint\u001b[39;49m\u001b[43m(\u001b[49m\u001b[38;5;28;43minput\u001b[39;49m\u001b[43m(\u001b[49m\u001b[38;5;124;43m\"\u001b[39;49m\u001b[38;5;124;43mNhập số nguyên cần tính giai thừa\u001b[39;49m\u001b[38;5;124;43m\"\u001b[39;49m\u001b[43m)\u001b[49m\u001b[43m)\u001b[49m\n\u001b[1;32m      2\u001b[0m f \u001b[38;5;241m=\u001b[39m math\u001b[38;5;241m.\u001b[39mfactorial(n)\n\u001b[1;32m      3\u001b[0m \u001b[38;5;28mprint\u001b[39m(\u001b[38;5;124mf\u001b[39m\u001b[38;5;124m\"\u001b[39m\u001b[38;5;132;01m{\u001b[39;00mn\u001b[38;5;132;01m}\u001b[39;00m\u001b[38;5;124m! = \u001b[39m\u001b[38;5;132;01m{\u001b[39;00mf\u001b[38;5;132;01m}\u001b[39;00m\u001b[38;5;124m\"\u001b[39m)\n",
      "\u001b[0;31mValueError\u001b[0m: invalid literal for int() with base 10: ''"
     ]
    }
   ],
   "source": [
    "n = int(input(\"Nhập số nguyên cần tính giai thừa\"))\n",
    "f = math.factorial(n)\n",
    "print(f\"{n}! = {f}\")"
   ]
  },
  {
   "attachments": {},
   "cell_type": "markdown",
   "metadata": {},
   "source": [
    "**Bài tập 3.3**"
   ]
  },
  {
   "cell_type": "code",
   "execution_count": 19,
   "metadata": {},
   "outputs": [],
   "source": [
    "# TODO:\n"
   ]
  },
  {
   "attachments": {},
   "cell_type": "markdown",
   "metadata": {},
   "source": [
    "## <a name=\"lap_trinh_python\"/>Lập trình Python"
   ]
  },
  {
   "cell_type": "markdown",
   "metadata": {},
   "source": [
    "### <a name=\"lenh_va_nhap_xuat\"/>Lệnh và nhập xuất"
   ]
  },
  {
   "cell_type": "code",
   "execution_count": 21,
   "metadata": {},
   "outputs": [
    {
     "name": "stdout",
     "output_type": "stream",
     "text": [
      "Chào Nhân!\n",
      "Bạn 30 tuổi.\n"
     ]
    }
   ],
   "source": [
    "# dùng input để nhập và print để xuất dữ liệu\n",
    "# cách thức và kết quả nhập xuất tùy môi trường thực thi\n",
    "\n",
    "tên = input(\"Bạn tên gì? \")\n",
    "print(\"Chào \" + tên + \"!\")\n",
    "\n",
    "năm_sinh = int(input(\"Bạn sinh năm bao nhiêu? \"))\n",
    "import time\n",
    "tuổi = time.localtime().tm_year - năm_sinh\n",
    "print(f\"Bạn {tuổi} tuổi.\")"
   ]
  },
  {
   "attachments": {},
   "cell_type": "markdown",
   "metadata": {},
   "source": [
    "**Bài tập 4.4**"
   ]
  },
  {
   "cell_type": "code",
   "execution_count": 21,
   "metadata": {},
   "outputs": [],
   "source": [
    "# TODO:\n"
   ]
  },
  {
   "attachments": {},
   "cell_type": "markdown",
   "metadata": {},
   "source": [
    "### <a name=\"cau_truc_chon\"/>Cấu trúc chọn"
   ]
  },
  {
   "cell_type": "code",
   "execution_count": 22,
   "metadata": {},
   "outputs": [
    {
     "name": "stdout",
     "output_type": "stream",
     "text": [
      "42 là số dương\n"
     ]
    }
   ],
   "source": [
    "x = int(input(\"Nhập một số nguyên: \"))\n",
    "\n",
    "if x < 0:\n",
    "    print(f\"{x} là số âm\")\n",
    "elif x > 0:\n",
    "    print(f\"{x} là số dương\")\n",
    "else:   # x == 0\n",
    "    print(f\"{x} không âm, không dương\")\n",
    "\n",
    "# lưu ý viết thụt vào (indent) cho đúng"
   ]
  },
  {
   "attachments": {},
   "cell_type": "markdown",
   "metadata": {},
   "source": [
    "**Bài tập 6.1**"
   ]
  },
  {
   "cell_type": "code",
   "execution_count": 23,
   "metadata": {},
   "outputs": [],
   "source": [
    "# TODO:\n"
   ]
  },
  {
   "attachments": {},
   "cell_type": "markdown",
   "metadata": {},
   "source": [
    "### <a name=\"cau_truc_lap\"/>Cấu trúc lặp"
   ]
  },
  {
   "cell_type": "code",
   "execution_count": 24,
   "metadata": {},
   "outputs": [
    {
     "name": "stdout",
     "output_type": "stream",
     "text": [
      "❀❀❀❀❀❀❀❀❀❀❀❀❀❀❀❀❀❀❀❀"
     ]
    }
   ],
   "source": [
    "for i in range(20):\n",
    "    print(\"\\u2740\", end=\"\")"
   ]
  },
  {
   "cell_type": "code",
   "execution_count": 25,
   "metadata": {},
   "outputs": [
    {
     "name": "stdout",
     "output_type": "stream",
     "text": [
      "0 1 2 3 4 5 6 7 8 9 10 11 12 13 14 15 16 17 18 19 "
     ]
    }
   ],
   "source": [
    "for i in range(20):\n",
    "    print(i, end=\" \")"
   ]
  },
  {
   "cell_type": "code",
   "execution_count": 26,
   "metadata": {},
   "outputs": [
    {
     "name": "stdout",
     "output_type": "stream",
     "text": [
      "❀\n",
      "❀❀\n",
      "❀❀❀\n",
      "❀❀❀❀\n",
      "❀❀❀❀❀\n",
      "❀❀❀❀❀❀\n",
      "❀❀❀❀❀❀❀\n",
      "❀❀❀❀❀❀❀❀\n",
      "❀❀❀❀❀❀❀❀❀\n",
      "❀❀❀❀❀❀❀❀❀❀\n"
     ]
    }
   ],
   "source": [
    "for i in range(1, 11):\n",
    "    for j in range(i):\n",
    "        print(\"\\u2740\", end=\"\")\n",
    "    print()"
   ]
  },
  {
   "cell_type": "code",
   "execution_count": 27,
   "metadata": {},
   "outputs": [
    {
     "name": "stdout",
     "output_type": "stream",
     "text": [
      "Các kí số của 2024 là: 2 0 2 4 "
     ]
    }
   ],
   "source": [
    "n = input(\"Nhập một số nguyên không âm: \")\n",
    "print(f\"Các kí số của {n} là: \", end=\"\")\n",
    "for d in n:\n",
    "    print(d, end=\" \")"
   ]
  },
  {
   "cell_type": "code",
   "execution_count": 28,
   "metadata": {},
   "outputs": [
    {
     "name": "stdout",
     "output_type": "stream",
     "text": [
      "Tổng các chữ số của 2024 là 8\n"
     ]
    }
   ],
   "source": [
    "n = input(\"Nhập một số nguyên không âm: \")\n",
    "s = 0\n",
    "for d in n:\n",
    "    s = s + int(d)\n",
    "print(f\"Tổng các chữ số của {n} là {s}\")\n"
   ]
  },
  {
   "cell_type": "code",
   "execution_count": 29,
   "metadata": {},
   "outputs": [
    {
     "name": "stdout",
     "output_type": "stream",
     "text": [
      "Các số chính phương từ 1 đến 100: 1 4 9 16 25 36 49 64 81 100 "
     ]
    }
   ],
   "source": [
    "n = 100\n",
    "print(f\"Các số chính phương từ 1 đến {n}: \", end=\"\")\n",
    "i = 1\n",
    "while i <= n:\n",
    "    d = int(i**0.5)\n",
    "    if d**2 == i:\n",
    "        print(i, end=\" \")\n",
    "    i = i + 1"
   ]
  },
  {
   "attachments": {},
   "cell_type": "markdown",
   "metadata": {},
   "source": [
    "**Bài tập 7.1(h)**"
   ]
  },
  {
   "cell_type": "code",
   "execution_count": 30,
   "metadata": {},
   "outputs": [],
   "source": [
    "# TODO:\n"
   ]
  }
 ],
 "metadata": {
  "kernelspec": {
   "display_name": "Python 3",
   "language": "python",
   "name": "python3"
  },
  "language_info": {
   "codemirror_mode": {
    "name": "ipython",
    "version": 3
   },
   "file_extension": ".py",
   "mimetype": "text/x-python",
   "name": "python",
   "nbconvert_exporter": "python",
   "pygments_lexer": "ipython3",
   "version": "3.12.1"
  },
  "orig_nbformat": 4
 },
 "nbformat": 4,
 "nbformat_minor": 2
}
