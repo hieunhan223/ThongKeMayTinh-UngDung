{
 "cells": [
  {
   "cell_type": "markdown",
   "metadata": {},
   "source": [
    "# THỐNG KÊ MÁY TÍNH VÀ ỨNG DỤNG (ĐTTX)\n",
    "\n",
    "**Khoa Công nghệ Thông tin - ĐH Khoa học Tự nhiên TP. HCM ([fit@hcmus](https://www.fit.hcmus.edu.vn/))**\n",
    "\n",
    "*Giảng viên: Vũ Quốc Hoàng (vqhoang@fit.hcmus.edu.vn)*"
   ]
  },
  {
   "cell_type": "markdown",
   "metadata": {},
   "source": [
    "# BÀI 1 - ÔN TẬP PYTHON (Phần 2)"
   ]
  },
  {
   "cell_type": "markdown",
   "metadata": {},
   "source": [
    "**Nội dung**\n",
    "\n",
    "* [Hàm](#ham)\n",
    "* [Lớp và đối tượng](#lop_va_doi_tuong)\n",
    "* [Chuỗi](#chuoi)\n",
    "* [Tập tin](#tap_tin)\n",
    "\n",
    "**Tài liệu tham khảo**\n",
    "\n",
    "* Bài 8, 10, 14, 17 [Bí kíp luyện Lập trình nhập môn với Python (hBook)](https://github.com/vqhBook/python) \n",
    "  (Các bài tập rèn luyện dưới đây được lấy từ tài liệu này.)"
   ]
  },
  {
   "attachments": {},
   "cell_type": "markdown",
   "metadata": {},
   "source": [
    "## <a name=\"ham\"/>Hàm"
   ]
  },
  {
   "cell_type": "code",
   "execution_count": 1,
   "metadata": {},
   "outputs": [],
   "source": [
    "# định nghĩa hàm\n",
    "def mysqrt(x, N=100):\n",
    "    y = x\n",
    "    for _ in range(N):\n",
    "        y = y/2 + x/(2*y)\n",
    "    return y"
   ]
  },
  {
   "cell_type": "code",
   "execution_count": 2,
   "metadata": {},
   "outputs": [
    {
     "name": "stdout",
     "output_type": "stream",
     "text": [
      "1.414213562373095 1.4142135623730951 1.4142135623730951\n"
     ]
    }
   ],
   "source": [
    "import math\n",
    "\n",
    "# dùng hàm (gọi hàm)\n",
    "print(mysqrt(2), math.sqrt(2), 2**0.5)"
   ]
  },
  {
   "cell_type": "code",
   "execution_count": 3,
   "metadata": {},
   "outputs": [
    {
     "name": "stdout",
     "output_type": "stream",
     "text": [
      "323.0844833048122\n",
      "100.00000025490743\n",
      "100.0\n",
      "100.0\n"
     ]
    }
   ],
   "source": [
    "print(mysqrt(10000, 5))\n",
    "print(mysqrt(10000, 10))\n",
    "print(mysqrt(10000, 100))\n",
    "print(mysqrt(10000))"
   ]
  },
  {
   "attachments": {},
   "cell_type": "markdown",
   "metadata": {},
   "source": [
    "**Bài tập 8.1(c)**"
   ]
  },
  {
   "cell_type": "code",
   "execution_count": 4,
   "metadata": {},
   "outputs": [],
   "source": [
    "# TODO:\n"
   ]
  },
  {
   "cell_type": "markdown",
   "metadata": {},
   "source": [
    "## <a name=\"lop_va_doi_tuong\"/>Lớp và đối tượng"
   ]
  },
  {
   "cell_type": "code",
   "execution_count": 2,
   "metadata": {},
   "outputs": [],
   "source": [
    "# định nghĩa lớp\n",
    "class Point:\n",
    "    def __init__(self, x=0, y=0):   # phương thức tạo đối tượng\n",
    "        self.x = x                  # các thuộc tính\n",
    "        self.y = y\n",
    "    \n",
    "    def translate(self, dx, dy):    # phương thức\n",
    "        self.x += dx\n",
    "        self.y += dy\n",
    "    \n",
    "    def __str__(self):              # phương thức đặc biệt để chuyển thành chuỗi (str)\n",
    "        return f\"({self.x}, {self.y})\"\n",
    "    \n",
    "    def __add__(self, other):             # phương thức đặc biệt dùng nạp chồng toán tử +\n",
    "        p = Point(self.x, self.y)\n",
    "        p.translate(other.x, other.y)\n",
    "        return p"
   ]
  },
  {
   "cell_type": "code",
   "execution_count": 3,
   "metadata": {},
   "outputs": [
    {
     "name": "stdout",
     "output_type": "stream",
     "text": [
      "(1, 0)\n",
      "(1, 0)\n",
      "(1, 0)\n",
      "(6, 4)\n"
     ]
    }
   ],
   "source": [
    "# tạo các đối tượng của lớp và thao tác trên đối tượng\n",
    "p = Point(x=1)          # gọi phương thức tạo Point(x=1, y=0)\n",
    "print(p)                # p.__str__ được gọi\n",
    "print(p.__str__())\n",
    "print(str(p))\n",
    "\n",
    "p.translate(5, 4)       # thao tác trên đối tượng bằng phương thức\n",
    "print(p)"
   ]
  },
  {
   "cell_type": "code",
   "execution_count": 7,
   "metadata": {},
   "outputs": [
    {
     "name": "stdout",
     "output_type": "stream",
     "text": [
      "<class 'int'>\n",
      "<class '__main__.Point'>\n",
      "<class 'function'>\n",
      "<class 'module'>\n"
     ]
    }
   ],
   "source": [
    "# mọi thức trong Python đều là đối tượng\n",
    "num = 10\n",
    "print(type(num))\n",
    "print(type(p))\n",
    "print(type(mysqrt))\n",
    "print(type(math))"
   ]
  },
  {
   "cell_type": "code",
   "execution_count": 8,
   "metadata": {},
   "outputs": [
    {
     "name": "stdout",
     "output_type": "stream",
     "text": [
      "15 15\n",
      "(8, 2) (8, 2)\n",
      "1.414213562373095 1.414213562373095\n"
     ]
    }
   ],
   "source": [
    "print(num + 5, num.__add__(5))\n",
    "print(p + Point(2, -2), p.__add__(Point(2, -2)))\n",
    "print(mysqrt(2), mysqrt.__call__(2))"
   ]
  },
  {
   "cell_type": "markdown",
   "metadata": {},
   "source": [
    "**Bài tập 14.6**"
   ]
  },
  {
   "cell_type": "code",
   "execution_count": 9,
   "metadata": {},
   "outputs": [],
   "source": [
    "# TODO:\n"
   ]
  },
  {
   "cell_type": "markdown",
   "metadata": {},
   "source": [
    "## <a name=\"chuoi\"/>Chuỗi"
   ]
  },
  {
   "cell_type": "code",
   "execution_count": 10,
   "metadata": {},
   "outputs": [
    {
     "name": "stdout",
     "output_type": "stream",
     "text": [
      "♥♥♥♥♥♥♥♥♥♥♥♥♥♥♥♥♥♥♥♥\n",
      "♥♥♥♥♥♥♥♥♥♥♥♥♥♥♥♥♥♥♥♥\n",
      "♥♥♥♥♥♥♥♥♥♥♥♥♥♥♥♥♥♥♥♥\n",
      "♥♥♥♥♥♥♥♥♥♥♥♥♥♥♥♥♥♥♥♥\n",
      "♥♥♥♥♥♥♥♥♥♥♥♥♥♥♥♥♥♥♥♥\n",
      "\n"
     ]
    }
   ],
   "source": [
    "ch = \"\\u2665\"\n",
    "line = ch * 20 + \"\\n\"   # lặp và nối chuỗi\n",
    "rect = line * 5\n",
    "print(rect)"
   ]
  },
  {
   "cell_type": "code",
   "execution_count": 11,
   "metadata": {},
   "outputs": [
    {
     "name": "stdout",
     "output_type": "stream",
     "text": [
      "2024 <class 'int'>\n",
      "2024 <class 'str'>\n",
      "4\n",
      "8\n",
      "18446744073709551616 gồm 20 chữ số\n"
     ]
    }
   ],
   "source": [
    "num = 2024          # số nguyên\n",
    "text = str(num)     # chuỗi\n",
    "\n",
    "print(num, type(num))\n",
    "print(text, type(text))\n",
    "print(len(text))\n",
    "print(sum(int(d) for d in text))\n",
    "print(f\"{2**64} gồm {len(str(2**64))} chữ số\")  # chuỗi định dạng"
   ]
  },
  {
   "cell_type": "code",
   "execution_count": 12,
   "metadata": {},
   "outputs": [
    {
     "name": "stdout",
     "output_type": "stream",
     "text": [
      "abcdefghijklmnopqrstuvwxyz\n",
      "a z abcde vwxyz\n"
     ]
    }
   ],
   "source": [
    "# module string hỗ trợ vài thao tác trên chuỗi\n",
    "import string\n",
    "\n",
    "letters = string.ascii_lowercase\n",
    "print(letters)\n",
    "print(letters[0], letters[-1], letters[:5], letters[-5:])"
   ]
  },
  {
   "cell_type": "markdown",
   "metadata": {},
   "source": [
    "Nhiều thao tác trên chuỗi được hỗ trợ qua các phương thức, tham khảo: [String Methods](https://docs.python.org/3/library/stdtypes.html#string-methods)."
   ]
  },
  {
   "cell_type": "code",
   "execution_count": 13,
   "metadata": {},
   "outputs": [
    {
     "name": "stdout",
     "output_type": "stream",
     "text": [
      "Abcdefghijklmnopqrstuvwxyz\n",
      "ABCDEFGHIJKLMNOPQRSTUVWXYZ\n",
      "13\n"
     ]
    }
   ],
   "source": [
    "print(letters.capitalize())\n",
    "print(letters.upper())\n",
    "print(letters.index(\"n\"))"
   ]
  },
  {
   "cell_type": "markdown",
   "metadata": {},
   "source": [
    "**Bài tập:** Viết hàm `pretty_str(num)` nhận số nguyên không âm `num`, trả về chuỗi biểu diễn số với dấu phẩy phân cách mỗi 3 chữ số.\n",
    "\n",
    "*Ví dụ:* `pretty_str(1234567)` trả về chuỗi `\"1,234,567\"`."
   ]
  },
  {
   "cell_type": "code",
   "execution_count": 14,
   "metadata": {},
   "outputs": [],
   "source": [
    "# TODO:\n"
   ]
  },
  {
   "cell_type": "markdown",
   "metadata": {},
   "source": [
    "## <a name=\"tap_tin\"/>Tập tin"
   ]
  },
  {
   "cell_type": "code",
   "execution_count": 4,
   "metadata": {},
   "outputs": [
    {
     "name": "stdout",
     "output_type": "stream",
     "text": [
      "thúy kiều là chị em là thúy vân\n",
      "thúy kiều sắc sảo khôn ngoan\n",
      "xét trong tội nghiệp thúy kiều\n",
      "thúy kiều tài sắc ai bì\n"
     ]
    }
   ],
   "source": [
    "f = open(\"TruyenKieu.txt\", \"rt\")\n",
    "for sentence in f.readlines():\n",
    "    if \"thúy kiều\" in sentence.lower():\n",
    "        print(sentence.strip())\n",
    "f.close()"
   ]
  },
  {
   "cell_type": "markdown",
   "metadata": {},
   "source": [
    "**Bài tập 17.3**"
   ]
  },
  {
   "cell_type": "code",
   "execution_count": 16,
   "metadata": {},
   "outputs": [],
   "source": [
    "# TODO:\n"
   ]
  }
 ],
 "metadata": {
  "kernelspec": {
   "display_name": "Python 3",
   "language": "python",
   "name": "python3"
  },
  "language_info": {
   "codemirror_mode": {
    "name": "ipython",
    "version": 3
   },
   "file_extension": ".py",
   "mimetype": "text/x-python",
   "name": "python",
   "nbconvert_exporter": "python",
   "pygments_lexer": "ipython3",
   "version": "3.12.1"
  },
  "orig_nbformat": 4
 },
 "nbformat": 4,
 "nbformat_minor": 2
}
