{
 "cells": [
  {
   "cell_type": "markdown",
   "metadata": {},
   "source": [
    "# THỐNG KÊ MÁY TÍNH VÀ ỨNG DỤNG (ĐTTX)\n",
    "\n",
    "**Khoa Công nghệ Thông tin - ĐH Khoa học Tự nhiên TP. HCM ([fit@hcmus](https://www.fit.hcmus.edu.vn/))**\n",
    "\n",
    "*Giảng viên: Vũ Quốc Hoàng (vqhoang@fit.hcmus.edu.vn)*"
   ]
  },
  {
   "cell_type": "markdown",
   "metadata": {},
   "source": [
    "# BÀI 2 - CÁC CẤU TRÚC DỮ LIỆU PYTHON (Phần 2)"
   ]
  },
  {
   "cell_type": "markdown",
   "metadata": {},
   "source": [
    "**Nội dung**\n",
    "\n",
    "* [Tập hợp](#tap_hop)\n",
    "* [Từ điển](#tu_dien)\n",
    "* [Các cấu trúc dữ liệu khác](#cau_truc_khac)\n",
    "\n",
    "**Tài liệu tham khảo**\n",
    "\n",
    "* Bài 12 [Bí kíp luyện Lập trình nhập môn với Python (hBook)](https://github.com/vqhBook/python) \n",
    "  (Các bài tập rèn luyện dưới đây được lấy từ tài liệu này.)"
   ]
  },
  {
   "attachments": {},
   "cell_type": "markdown",
   "metadata": {},
   "source": [
    "## <a name=\"tap_hop\"/>Tập hợp"
   ]
  },
  {
   "cell_type": "markdown",
   "metadata": {},
   "source": [
    "**Tập hợp** (`set`) trong Python là cấu trúc dữ liệu cho tập hợp trong Toán, đó là bộ sưu tập các đối tượng không để ý đến thứ tự và số lần xuất hiện."
   ]
  },
  {
   "cell_type": "code",
   "execution_count": 1,
   "metadata": {},
   "outputs": [
    {
     "name": "stdout",
     "output_type": "stream",
     "text": [
      "{1, 3, 5}\n",
      "<class 'set'>\n"
     ]
    }
   ],
   "source": [
    "s = {5, 1, 3, 1}\n",
    "print(s)\n",
    "print(type(s))"
   ]
  },
  {
   "cell_type": "code",
   "execution_count": 2,
   "metadata": {},
   "outputs": [
    {
     "data": {
      "text/plain": [
       "{' ', '!', 'H', 'W', 'd', 'e', 'l', 'o', 'r'}"
      ]
     },
     "execution_count": 2,
     "metadata": {},
     "output_type": "execute_result"
    }
   ],
   "source": [
    "set(\"Hello World!\")"
   ]
  },
  {
   "cell_type": "markdown",
   "metadata": {},
   "source": [
    "Tập hợp là khả biến (như danh sách và khác với chuỗi, bộ)."
   ]
  },
  {
   "cell_type": "code",
   "execution_count": 3,
   "metadata": {},
   "outputs": [
    {
     "name": "stdout",
     "output_type": "stream",
     "text": [
      "{1, 3, 5}\n",
      "{1, 10, 3, 5}\n"
     ]
    }
   ],
   "source": [
    "print(s)\n",
    "s.add(1)\n",
    "s.add(10)\n",
    "print(s)"
   ]
  },
  {
   "cell_type": "code",
   "execution_count": 4,
   "metadata": {},
   "outputs": [
    {
     "data": {
      "text/plain": [
       "{'e', 'l', 'o'}"
      ]
     },
     "execution_count": 4,
     "metadata": {},
     "output_type": "execute_result"
    }
   ],
   "source": [
    "set(\"hello\") - set(\"hi\")"
   ]
  },
  {
   "cell_type": "code",
   "execution_count": 5,
   "metadata": {},
   "outputs": [
    {
     "data": {
      "text/plain": [
       "{'e', 'l', 'o'}"
      ]
     },
     "execution_count": 5,
     "metadata": {},
     "output_type": "execute_result"
    }
   ],
   "source": [
    "{x for x in \"hello\" if x not in \"hi\"}"
   ]
  },
  {
   "attachments": {},
   "cell_type": "markdown",
   "metadata": {},
   "source": [
    "**Bài tập:** viết hàm liệt kê các kí tự không phải là chữ cái (a-z, A-Z) trong một chuỗi được cho."
   ]
  },
  {
   "cell_type": "code",
   "execution_count": 6,
   "metadata": {},
   "outputs": [],
   "source": [
    "# TODO:\n"
   ]
  },
  {
   "attachments": {},
   "cell_type": "markdown",
   "metadata": {},
   "source": [
    "## <a name=\"tu_dien\"/>Từ điển"
   ]
  },
  {
   "cell_type": "markdown",
   "metadata": {},
   "source": [
    "**Từ điển** (`dict`) là cấu trúc dữ liệu được dùng trong nhiều thao tác xử lý dữ liệu.\n",
    "\n",
    "Từ điển quản lý các đối tượng thông qua khóa: từ điển là tập các cặp khóa-đối tượng hay **khóa-giá trị (key-value)**."
   ]
  },
  {
   "cell_type": "code",
   "execution_count": 7,
   "metadata": {},
   "outputs": [
    {
     "name": "stdout",
     "output_type": "stream",
     "text": [
      "{'560000': 'Quảng Nam', '700000': 'TP. Hồ Chí Minh'}\n",
      "<class 'dict'>\n"
     ]
    }
   ],
   "source": [
    "postal_code = {\n",
    "    \"560000\": \"Quảng Nam\",\n",
    "    \"700000\": \"TP. Hồ Chí Minh\",\n",
    "}\n",
    "print(postal_code)\n",
    "print(type(postal_code))"
   ]
  },
  {
   "cell_type": "code",
   "execution_count": 8,
   "metadata": {},
   "outputs": [
    {
     "data": {
      "text/plain": [
       "'Quảng Nam'"
      ]
     },
     "execution_count": 8,
     "metadata": {},
     "output_type": "execute_result"
    }
   ],
   "source": [
    "postal_code[\"560000\"]   # truy cập value bằng key"
   ]
  },
  {
   "cell_type": "code",
   "execution_count": 9,
   "metadata": {},
   "outputs": [
    {
     "data": {
      "text/plain": [
       "True"
      ]
     },
     "execution_count": 9,
     "metadata": {},
     "output_type": "execute_result"
    }
   ],
   "source": [
    "\"560000\" in postal_code"
   ]
  },
  {
   "cell_type": "code",
   "execution_count": 10,
   "metadata": {},
   "outputs": [
    {
     "data": {
      "text/plain": [
       "False"
      ]
     },
     "execution_count": 10,
     "metadata": {},
     "output_type": "execute_result"
    }
   ],
   "source": [
    "560000 in postal_code"
   ]
  },
  {
   "cell_type": "code",
   "execution_count": 11,
   "metadata": {},
   "outputs": [
    {
     "data": {
      "text/plain": [
       "{'560000': 'Quảng Nam', '700000': 'TP. Hồ Chí Minh', '550000': 'Đà Nẵng'}"
      ]
     },
     "execution_count": 11,
     "metadata": {},
     "output_type": "execute_result"
    }
   ],
   "source": [
    "postal_code[\"550000\"] = \"Đà Nẵng\"\n",
    "postal_code"
   ]
  },
  {
   "cell_type": "code",
   "execution_count": 12,
   "metadata": {},
   "outputs": [
    {
     "name": "stdout",
     "output_type": "stream",
     "text": [
      "    ZIP | Thành phố       \n",
      "--------------------------\n",
      " 560000 | Quảng Nam       \n",
      " 700000 | TP. Hồ Chí Minh \n",
      " 550000 | Đà Nẵng         \n"
     ]
    }
   ],
   "source": [
    "print(f\"{'ZIP':>7} | {'Thành phố': <16}\")\n",
    "print(\"-\" * (7 + 16 + 3))\n",
    "for k in postal_code:\n",
    "    print(f\"{k:>7} | {postal_code[k]:<16}\")"
   ]
  },
  {
   "cell_type": "markdown",
   "metadata": {},
   "source": [
    "Tham khảo thêm các thao tác khác trên từ điển: [Python dict](https://docs.python.org/3/library/stdtypes.html#mapping-types-dict)."
   ]
  },
  {
   "attachments": {},
   "cell_type": "markdown",
   "metadata": {},
   "source": [
    "**Bài tập 12.9**"
   ]
  },
  {
   "cell_type": "code",
   "execution_count": 13,
   "metadata": {},
   "outputs": [],
   "source": [
    "# TODO:\n"
   ]
  },
  {
   "cell_type": "markdown",
   "metadata": {},
   "source": [
    "## <a name=\"cau_truc_khac\"/>Các cấu trúc dữ liệu khác"
   ]
  },
  {
   "cell_type": "markdown",
   "metadata": {},
   "source": [
    "Python hỗ trợ nhiều cấu trúc dữ liệu khác trong module [`collections`](https://docs.python.org/3/library/collections.html). "
   ]
  },
  {
   "cell_type": "markdown",
   "metadata": {},
   "source": [
    "Ví dụ: **bộ với thành phần được đặt tên (named tuple)**.\n",
    "\n",
    "Kiểu bộ (tuple) của Python chỉ cho phép truy cập các thành phần theo chỉ số. Dùng `collections.namedtuple` cho phép tạo các lớp cung cấp khả năng truy cập các thành phần theo tên (khi đó, các thành phần thường được gọi là **trường (field)**). "
   ]
  },
  {
   "cell_type": "code",
   "execution_count": 14,
   "metadata": {},
   "outputs": [
    {
     "name": "stdout",
     "output_type": "stream",
     "text": [
      "Vector2D(x=5, y=10) Vector2D(x=5, y=10)\n",
      "<class '__main__.Vector2D'> <class 'type'> True\n",
      "5 5 True\n",
      "5 10\n"
     ]
    }
   ],
   "source": [
    "from collections import namedtuple\n",
    "\n",
    "Vector2D = namedtuple(\"Vector2D\", [\"x\", \"y\"])   # tạo lớp có các trường được đặt tên\n",
    "v1 = Vector2D(5, 10)                            # tạo đối tượng của lớp như bộ\n",
    "v2 = Vector2D(y=10, x=5)                        # tạo đối tượng của lớp dùng tên trường\n",
    "\n",
    "print(v1, v2)\n",
    "print(type(v1), type(Vector2D), v1.__class__ is Vector2D)\n",
    "print(v1[0], v1.x, v1 == v2)                    # truy cập các trường bằng chỉ số (như bộ) hoặc bằng tên\n",
    "a, b = v1                                       # đối tượng của namedtuple được dùng như tuple\n",
    "print(a, b)"
   ]
  },
  {
   "cell_type": "code",
   "execution_count": 15,
   "metadata": {},
   "outputs": [
    {
     "ename": "AttributeError",
     "evalue": "can't set attribute",
     "output_type": "error",
     "traceback": [
      "\u001b[1;31m---------------------------------------------------------------------------\u001b[0m",
      "\u001b[1;31mAttributeError\u001b[0m                            Traceback (most recent call last)",
      "Cell \u001b[1;32mIn[15], line 1\u001b[0m\n\u001b[1;32m----> 1\u001b[0m v1\u001b[38;5;241m.\u001b[39mx \u001b[38;5;241m=\u001b[39m \u001b[38;5;241m0\u001b[39m\n",
      "\u001b[1;31mAttributeError\u001b[0m: can't set attribute"
     ]
    }
   ],
   "source": [
    "v1.x = 0        # đối tượng của namedtuple là tuple nên bất biến"
   ]
  },
  {
   "cell_type": "code",
   "execution_count": 16,
   "metadata": {},
   "outputs": [
    {
     "name": "stdout",
     "output_type": "stream",
     "text": [
      "Vector2D(x=0, y=10) Vector2D(x=5, y=10)\n"
     ]
    }
   ],
   "source": [
    "v3 = v1._replace(x = 0)\n",
    "print(v3, v1)"
   ]
  },
  {
   "cell_type": "markdown",
   "metadata": {},
   "source": [
    "**Bài tập 14.12**"
   ]
  },
  {
   "cell_type": "code",
   "execution_count": 17,
   "metadata": {},
   "outputs": [],
   "source": [
    "# TODO:\n"
   ]
  },
  {
   "cell_type": "markdown",
   "metadata": {},
   "source": [
    "Ví dụ: **bộ đếm (counter)**.\n",
    "\n",
    "`Counter` là một từ điển giúp đếm rất hiệu quả."
   ]
  },
  {
   "cell_type": "code",
   "execution_count": 18,
   "metadata": {},
   "outputs": [
    {
     "data": {
      "text/plain": [
       "Counter({'H': 1,\n",
       "         'e': 1,\n",
       "         'l': 3,\n",
       "         'o': 2,\n",
       "         ' ': 1,\n",
       "         'W': 1,\n",
       "         'r': 1,\n",
       "         'd': 1,\n",
       "         '!': 1})"
      ]
     },
     "execution_count": 18,
     "metadata": {},
     "output_type": "execute_result"
    }
   ],
   "source": [
    "from collections import Counter\n",
    "\n",
    "a = Counter(\"Hello World!\")\n",
    "a"
   ]
  },
  {
   "cell_type": "code",
   "execution_count": 19,
   "metadata": {},
   "outputs": [
    {
     "data": {
      "text/plain": [
       "[('l', 3), ('o', 2)]"
      ]
     },
     "execution_count": 19,
     "metadata": {},
     "output_type": "execute_result"
    }
   ],
   "source": [
    "a.most_common()[:2]"
   ]
  },
  {
   "cell_type": "markdown",
   "metadata": {},
   "source": [
    "**Bài tập 12.14**"
   ]
  },
  {
   "cell_type": "code",
   "execution_count": 20,
   "metadata": {},
   "outputs": [],
   "source": [
    "# TODO:\n"
   ]
  }
 ],
 "metadata": {
  "kernelspec": {
   "display_name": "base",
   "language": "python",
   "name": "python3"
  },
  "language_info": {
   "codemirror_mode": {
    "name": "ipython",
    "version": 3
   },
   "file_extension": ".py",
   "mimetype": "text/x-python",
   "name": "python",
   "nbconvert_exporter": "python",
   "pygments_lexer": "ipython3",
   "version": "3.10.11"
  },
  "orig_nbformat": 4
 },
 "nbformat": 4,
 "nbformat_minor": 2
}
