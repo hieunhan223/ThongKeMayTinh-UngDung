{
 "cells": [
  {
   "attachments": {},
   "cell_type": "markdown",
   "metadata": {},
   "source": [
    "# Bài tập 1 - Ôn tập Python\n",
    "\n",
    "*(Thống kê máy tính và ứng dụng - ĐTTX Kì 2 2024-2025)*\n",
    "\n",
    "Tài liệu tham khảo: [Bí kíp luyện Python](https://github.com/vqhBook/python)"
   ]
  },
  {
   "cell_type": "markdown",
   "metadata": {},
   "source": [
    "MSSV: 21880248\n",
    "\n",
    "Họ và tên: Nguyễn Đức Hiếu Nhân"
   ]
  },
  {
   "cell_type": "markdown",
   "metadata": {},
   "source": [
    "## Câu 1 (2.5 điểm)\n",
    "\n",
    "Xem **Bài tập 2.4**"
   ]
  },
  {
   "cell_type": "markdown",
   "metadata": {},
   "source": [
    "Kiểm tra khẳng định \"$55^{n+1} - 55^n$ chia hết cho 54 với $n$ được cho\" bằng các tính toán trong Python."
   ]
  },
  {
   "cell_type": "code",
   "execution_count": 1,
   "metadata": {},
   "outputs": [],
   "source": [
    "def check(n):\n",
    "    return (55**(n + 1) - 55**n) % 54 == 0"
   ]
  },
  {
   "cell_type": "code",
   "execution_count": 2,
   "metadata": {},
   "outputs": [
    {
     "data": {
      "text/plain": [
       "True"
      ]
     },
     "execution_count": 2,
     "metadata": {},
     "output_type": "execute_result"
    }
   ],
   "source": [
    "check(10)"
   ]
  },
  {
   "cell_type": "markdown",
   "metadata": {},
   "source": [
    "Khi $n$ lớn, thời gian tính toán sẽ lâu."
   ]
  },
  {
   "cell_type": "code",
   "execution_count": 3,
   "metadata": {},
   "outputs": [
    {
     "name": "stdout",
     "output_type": "stream",
     "text": [
      "181 ns ± 7.68 ns per loop (mean ± std. dev. of 7 runs, 10,000,000 loops each)\n"
     ]
    }
   ],
   "source": [
    "%timeit check(10)"
   ]
  },
  {
   "cell_type": "code",
   "execution_count": 4,
   "metadata": {},
   "outputs": [
    {
     "name": "stdout",
     "output_type": "stream",
     "text": [
      "19.4 μs ± 492 ns per loop (mean ± std. dev. of 7 runs, 100,000 loops each)\n"
     ]
    }
   ],
   "source": [
    "%timeit check(1000)"
   ]
  },
  {
   "cell_type": "markdown",
   "metadata": {},
   "source": [
    "Với $n = 10$ thời gian tính khoảng 700 nano giây (0.7 micro giây).\n",
    "\n",
    "Với $n = 1000$ thời gian tính khoảng 16 micro giây."
   ]
  },
  {
   "cell_type": "markdown",
   "metadata": {},
   "source": [
    "**Yêu cầu 1.** Ước lượng thời gian chạy với $n = 500000, 1000000, 2000000$."
   ]
  },
  {
   "cell_type": "code",
   "execution_count": 5,
   "metadata": {},
   "outputs": [
    {
     "name": "stdout",
     "output_type": "stream",
     "text": [
      "433 ms ± 10.9 ms per loop (mean ± std. dev. of 7 runs, 1 loop each)\n"
     ]
    }
   ],
   "source": [
    "%timeit check(500000)"
   ]
  },
  {
   "cell_type": "code",
   "execution_count": 6,
   "metadata": {},
   "outputs": [
    {
     "name": "stdout",
     "output_type": "stream",
     "text": [
      "1.29 s ± 13.4 ms per loop (mean ± std. dev. of 7 runs, 1 loop each)\n"
     ]
    }
   ],
   "source": [
    "%timeit check(1000000)"
   ]
  },
  {
   "cell_type": "code",
   "execution_count": 7,
   "metadata": {},
   "outputs": [
    {
     "name": "stdout",
     "output_type": "stream",
     "text": [
      "3.86 s ± 9.78 ms per loop (mean ± std. dev. of 7 runs, 1 loop each)\n"
     ]
    }
   ],
   "source": [
    "%timeit check(2000000)"
   ]
  },
  {
   "cell_type": "markdown",
   "metadata": {},
   "source": [
    "**Yêu cầu 2.** Tìm cách tính nhanh hơn và viết lại hàm `check` trên.\n",
    "\n",
    "Kiểm tra và ước lượng thời gian chạy với $n = 10^3, 10^6, 10^7, 10^8, 10^9, 10^{12}, 10^{15}$."
   ]
  },
  {
   "cell_type": "code",
   "execution_count": 8,
   "metadata": {},
   "outputs": [],
   "source": [
    "def check_improve(n):\n",
    "    return ((55% 54)**(n + 1) - (55% 54)**n)  == 0\n"
   ]
  },
  {
   "cell_type": "code",
   "execution_count": 9,
   "metadata": {},
   "outputs": [
    {
     "name": "stdout",
     "output_type": "stream",
     "text": [
      "220 ns ± 0.145 ns per loop (mean ± std. dev. of 7 runs, 1,000,000 loops each)\n"
     ]
    }
   ],
   "source": [
    "%timeit check_improve(10**3)"
   ]
  },
  {
   "cell_type": "code",
   "execution_count": 10,
   "metadata": {},
   "outputs": [
    {
     "name": "stdout",
     "output_type": "stream",
     "text": [
      "369 ns ± 0.155 ns per loop (mean ± std. dev. of 7 runs, 1,000,000 loops each)\n"
     ]
    }
   ],
   "source": [
    "%timeit check_improve(10**6)"
   ]
  },
  {
   "cell_type": "code",
   "execution_count": 11,
   "metadata": {},
   "outputs": [
    {
     "name": "stdout",
     "output_type": "stream",
     "text": [
      "447 ns ± 12.6 ns per loop (mean ± std. dev. of 7 runs, 1,000,000 loops each)\n"
     ]
    }
   ],
   "source": [
    "%timeit check_improve(10**7)"
   ]
  },
  {
   "cell_type": "code",
   "execution_count": 12,
   "metadata": {},
   "outputs": [
    {
     "name": "stdout",
     "output_type": "stream",
     "text": [
      "534 ns ± 4.41 ns per loop (mean ± std. dev. of 7 runs, 1,000,000 loops each)\n"
     ]
    }
   ],
   "source": [
    "%timeit check_improve(10**8)"
   ]
  },
  {
   "cell_type": "code",
   "execution_count": 13,
   "metadata": {},
   "outputs": [
    {
     "name": "stdout",
     "output_type": "stream",
     "text": [
      "602 ns ± 39.5 ns per loop (mean ± std. dev. of 7 runs, 1,000,000 loops each)\n"
     ]
    }
   ],
   "source": [
    "%timeit check_improve(10**9)"
   ]
  },
  {
   "cell_type": "code",
   "execution_count": 14,
   "metadata": {},
   "outputs": [
    {
     "name": "stdout",
     "output_type": "stream",
     "text": [
      "718 ns ± 0.489 ns per loop (mean ± std. dev. of 7 runs, 1,000,000 loops each)\n"
     ]
    }
   ],
   "source": [
    "%timeit check_improve(10**12)"
   ]
  },
  {
   "cell_type": "code",
   "execution_count": 15,
   "metadata": {},
   "outputs": [
    {
     "name": "stdout",
     "output_type": "stream",
     "text": [
      "955 ns ± 22.6 ns per loop (mean ± std. dev. of 7 runs, 1,000,000 loops each)\n"
     ]
    }
   ],
   "source": [
    "%timeit check_improve(10**15)"
   ]
  },
  {
   "cell_type": "markdown",
   "metadata": {},
   "source": [
    "## Câu 2 (2 điểm)\n",
    "\n",
    "(Tham khảo: Bài 6-8)"
   ]
  },
  {
   "cell_type": "markdown",
   "metadata": {},
   "source": [
    "**Bài tập 6.4** *(1 điểm)*"
   ]
  },
  {
   "cell_type": "code",
   "execution_count": 16,
   "metadata": {},
   "outputs": [
    {
     "name": "stdout",
     "output_type": "stream",
     "text": [
      "Chương trình xếp loại học lực của sinh viên\n",
      "Đạt\n",
      "Khá\n"
     ]
    }
   ],
   "source": [
    "print(\"Chương trình xếp loại học lực của sinh viên\")\n",
    "\n",
    "diemTB = round(float(input(\"Nhập điểm trung bình của sinh viên: \")),2)\n",
    "\n",
    "if 0 <= diemTB < 4:\n",
    "    print(\"Không đạt\")\n",
    "    print(\"Kém\")\n",
    "elif 4 <= diemTB < 5:\n",
    "    print(\"Không đạt\")\n",
    "    print(\"Yếu\")   \n",
    "elif 5 <= diemTB < 6:\n",
    "    print(\"Đạt\")\n",
    "    print(\"Trung bình\")   \n",
    "elif 6 <= diemTB < 7:\n",
    "    print(\"Đạt\")\n",
    "    print(\"Trung bình khá\")   \n",
    "elif 7 <= diemTB < 8:\n",
    "    print(\"Đạt\")\n",
    "    print(\"Khá\")   \n",
    "elif 8 <= diemTB < 9:\n",
    "    print(\"Đạt\")\n",
    "    print(\"Giỏi\")   \n",
    "elif 9 <= diemTB <= 10:\n",
    "    print(\"Đạt\")\n",
    "    print(\"Xuất sắc\")       \n",
    "else: \n",
    "    print(\"Điểm không hợp lệ\")"
   ]
  },
  {
   "cell_type": "markdown",
   "metadata": {},
   "source": [
    "**Bài tập 7.4** *(1 điểm)* Viết hàm thực hiện yêu cầu tính toán và minh họa các trường hợp dùng hàm."
   ]
  },
  {
   "cell_type": "code",
   "execution_count": 23,
   "metadata": {},
   "outputs": [
    {
     "name": "stdout",
     "output_type": "stream",
     "text": [
      "1.8446744073709552e+19\n"
     ]
    },
    {
     "data": {
      "text/plain": [
       "18446744073709551616"
      ]
     },
     "execution_count": 23,
     "metadata": {},
     "output_type": "execute_result"
    }
   ],
   "source": [
    "def mu_luy_thua_2():\n",
    "    x = float(input(\"Nhap so thuc x: \"))\n",
    "    n = int(input(\"Nhap so nguyen khong am n\"))\n",
    "    for i in range(0,n):\n",
    "        x = x**2\n",
    "    return x\n",
    "print(mu_luy_thua_2())\n",
    "4**(2**5)"
   ]
  },
  {
   "cell_type": "markdown",
   "metadata": {},
   "source": [
    "## Câu 3 (2 điểm)\n",
    "\n",
    "(Tham khảo: Bài 11-12)"
   ]
  },
  {
   "cell_type": "markdown",
   "metadata": {},
   "source": [
    "**Bài tập 11.6** (1 điểm)"
   ]
  },
  {
   "cell_type": "code",
   "execution_count": 18,
   "metadata": {},
   "outputs": [
    {
     "name": "stdout",
     "output_type": "stream",
     "text": [
      "Bậc: 5\n",
      "Số tiền phải trả:  991.9 ngàn đồng\n"
     ]
    }
   ],
   "source": [
    "ds_mốc_điện = [401, 301, 201, 101, 51, 0]\n",
    "ds_gía = [2.927, 2.834, 2.536, 2.014, 1.734, 1.678]\n",
    "ds_bậc = [6,5,4,3,2,1]\n",
    "\n",
    "lượng_điện = float(input(\"Nhập lượng điện tiêu thụ (kWh): \"))\n",
    "for mốc_điện, giá, bậc in zip(ds_mốc_điện,ds_gía,ds_bậc):\n",
    "    if lượng_điện >= mốc_điện:\n",
    "        print(\"Bậc: \" + str(bậc))\n",
    "        print(\"Số tiền phải trả: \" ,round(lượng_điện*giá,2) , \"ngàn đồng\")\n",
    "        break"
   ]
  },
  {
   "cell_type": "markdown",
   "metadata": {},
   "source": [
    "**Bài tập 12.6** (1 điểm)"
   ]
  },
  {
   "cell_type": "code",
   "execution_count": 19,
   "metadata": {},
   "outputs": [],
   "source": [
    "def eval_expression(M, thamso):\n",
    "    return eval(M, {}, thamso)"
   ]
  },
  {
   "cell_type": "code",
   "execution_count": 20,
   "metadata": {},
   "outputs": [
    {
     "data": {
      "text/plain": [
       "10"
      ]
     },
     "execution_count": 20,
     "metadata": {},
     "output_type": "execute_result"
    }
   ],
   "source": [
    "eval_expression(\"(10 + x)*y\", {\"x\": 0, \"y\": 1})"
   ]
  },
  {
   "cell_type": "markdown",
   "metadata": {},
   "source": [
    "## Câu 4 (1 điểm)\n",
    "\n",
    "(Tham khảo: Bài 17)\n",
    "\n",
    "**Bài tập 17.2**"
   ]
  },
  {
   "cell_type": "code",
   "execution_count": null,
   "metadata": {},
   "outputs": [],
   "source": []
  },
  {
   "cell_type": "markdown",
   "metadata": {},
   "source": [
    "## Câu 5 (2.5 điểm)\n",
    "\n",
    "(Tham khảo: Bài 14)\n",
    "\n",
    "**Bài tập 14.5**"
   ]
  },
  {
   "cell_type": "code",
   "execution_count": 21,
   "metadata": {},
   "outputs": [
    {
     "name": "stdout",
     "output_type": "stream",
     "text": [
      "(7, 9)\n",
      "(-1, -1)\n",
      "(15, 20)\n",
      "32\n",
      "5.0\n",
      "(-4.0, 3.0)\n"
     ]
    }
   ],
   "source": [
    "import math\n",
    "class Vecto2D:\n",
    "    x = 0 #hoành độ\n",
    "    y = 0 #tung độ\n",
    "\n",
    "    def __init__(self,x, y):\n",
    "        self.x = x\n",
    "        self.y = y\n",
    "\n",
    "    def __add__(self,v2):\n",
    "        return (self.x + v2.x, self.y + v2.y)\n",
    "\n",
    "    def __sub__(self, v2):\n",
    "        return (self.x - v2.x, self.y - v2.y)\n",
    "\n",
    "    def __mul__(self, k):\n",
    "        return (self.x * k, self.y * k)\n",
    "\n",
    "    def nhan_vecto(self, v2):\n",
    "        return self.x * v2.x + self.y * v2.y\n",
    "\n",
    "    def do_dai(self):\n",
    "        return math.sqrt(self.x**2 + self.y**2)\n",
    "\n",
    "    def quay_goc(self, theta):\n",
    "        rad = math.radians(theta)  # Chuyển độ sang radian       \n",
    "        return (round(self.x * math.cos(rad) - self.y * math.sin(rad),2),\n",
    "                round(self.x * math.sin(rad) + self.y * math.cos(rad),2))\n",
    "A = Vecto2D(3,4)\n",
    "B = Vecto2D(4,5)\n",
    "\n",
    "print(A+B)\n",
    "print(A-B)\n",
    "print(A*5)\n",
    "print(A.nhan_vecto(B))\n",
    "print(A.do_dai())\n",
    "print(A.quay_goc(90))"
   ]
  }
 ],
 "metadata": {
  "kernelspec": {
   "display_name": "Python 3",
   "language": "python",
   "name": "python3"
  },
  "language_info": {
   "codemirror_mode": {
    "name": "ipython",
    "version": 3
   },
   "file_extension": ".py",
   "mimetype": "text/x-python",
   "name": "python",
   "nbconvert_exporter": "python",
   "pygments_lexer": "ipython3",
   "version": "3.12.1"
  }
 },
 "nbformat": 4,
 "nbformat_minor": 4
}
