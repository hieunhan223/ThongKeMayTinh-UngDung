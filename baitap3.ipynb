{
 "cells": [
  {
   "attachments": {},
   "cell_type": "markdown",
   "metadata": {},
   "source": [
    "# Bài tập 3 - Thống kê mô tả\n",
    "\n",
    "*(Thống kê máy tính và ứng dụng - ĐTTX Kì 2 2024-2025)*"
   ]
  },
  {
   "attachments": {},
   "cell_type": "markdown",
   "metadata": {},
   "source": [
    "MSSV: <...>\n",
    "\n",
    "Họ và tên: <...>"
   ]
  },
  {
   "cell_type": "code",
   "execution_count": 1,
   "metadata": {},
   "outputs": [],
   "source": [
    "import numpy as np\n",
    "import pandas as pd\n",
    "import matplotlib.pyplot as plt\n",
    "import seaborn as sns"
   ]
  },
  {
   "attachments": {},
   "cell_type": "markdown",
   "metadata": {},
   "source": [
    "## Bộ dữ liệu `Auto MPG`"
   ]
  },
  {
   "cell_type": "markdown",
   "metadata": {},
   "source": [
    "### Câu 1 (1 điểm)\n",
    "\n",
    "1. Tìm hiểu bộ dữ liệu `Auto MPG` (https://archive.ics.uci.edu/dataset/9/auto+mpg)\n",
    "\n",
    "1. Download tập tin dữ liệu `auto+mpg.zip` (https://archive.ics.uci.edu/static/public/9/auto+mpg.zip), lấy ra tập tin `auto-mpg.data` và nạp dữ liệu vào `DataFrame` tên là `auto_mpg`, kiểm tra thông tin của bảng dữ liệu nạp được\n",
    "\n",
    "Lưu ý là bộ dữ liệu này có ô bị thiếu (đánh dấu bằng dấu ?)."
   ]
  },
  {
   "cell_type": "code",
   "execution_count": null,
   "metadata": {},
   "outputs": [],
   "source": []
  },
  {
   "cell_type": "markdown",
   "metadata": {},
   "source": [
    "### Câu 2 (1 điểm)\n",
    "\n",
    "Biến mpg (miles per gallon) là biến mục tiêu của bộ dữ liệu này. Biến mpg có kiểu dữ liệu là gì? Mô tả dữ liệu của biến mpg."
   ]
  },
  {
   "cell_type": "code",
   "execution_count": null,
   "metadata": {},
   "outputs": [],
   "source": []
  },
  {
   "attachments": {},
   "cell_type": "markdown",
   "metadata": {},
   "source": [
    "### Câu 3 (1 điểm)\n",
    "\n",
    "1. Vẽ biểu đồ quạt cho biết tần số các nhóm của origin.\n",
    "1. Vẽ biểu đồ thanh cho biết tần số các nhóm của origin.\n",
    "1. Vẽ biểu đồ thanh gom nhóm cho cylinders chia theo origin. \n",
    "1. Vẽ biểu đồ thanh xếp chồng cho cylinders chia theo origin."
   ]
  },
  {
   "cell_type": "code",
   "execution_count": null,
   "metadata": {},
   "outputs": [],
   "source": []
  },
  {
   "attachments": {},
   "cell_type": "markdown",
   "metadata": {},
   "source": [
    "### Câu 4 (1 điểm)\n",
    "\n",
    "1. Vẽ histogram cho weight với các khoảng chia đều.\n",
    "1. Vẽ histogram cho weight với các khoảng chia theo phân vị: 20%, 40%, 50%, 60%, 80%, 100%.\n",
    "1. Dùng histogram kiểm tra xem weight có ngoại lai hay không? \n",
    "1. Dùng boxplot kiểm tra xem weight có ngoại lai hay không?\n",
    "1. Tính trung bình, trung vị của weight và so sánh."
   ]
  },
  {
   "cell_type": "code",
   "execution_count": null,
   "metadata": {},
   "outputs": [],
   "source": []
  },
  {
   "attachments": {},
   "cell_type": "markdown",
   "metadata": {},
   "source": [
    "### Câu 5 (1 điểm)\n",
    "\n",
    "1. Phân tích mpg theo origin.\n",
    "1. Phân tích mpg theo weight. "
   ]
  },
  {
   "cell_type": "code",
   "execution_count": null,
   "metadata": {},
   "outputs": [],
   "source": []
  },
  {
   "cell_type": "markdown",
   "metadata": {},
   "source": [
    "### Câu 6 (1 điểm)\n",
    "\n",
    "1. Dùng biến car name trích ra dữ liệu của 2 hãng xe có lượng xe nhiều nhất trong bộ dữ liệu\n",
    "1. So sánh mpg của 2 hãng xe này. "
   ]
  },
  {
   "cell_type": "code",
   "execution_count": null,
   "metadata": {},
   "outputs": [],
   "source": []
  },
  {
   "cell_type": "markdown",
   "metadata": {},
   "source": [
    "### Câu 7 (1 điểm)\n",
    "\n",
    "Biến nào giúp dự đoán mpg tốt nhất?"
   ]
  },
  {
   "cell_type": "code",
   "execution_count": null,
   "metadata": {},
   "outputs": [],
   "source": []
  },
  {
   "cell_type": "markdown",
   "metadata": {},
   "source": [
    "## Bộ dữ liệu `Pop.Growth`"
   ]
  },
  {
   "attachments": {},
   "cell_type": "markdown",
   "metadata": {},
   "source": [
    "Tập tin `PopGrowth_WB.csv` chứa dữ liệu tỉ lệ tăng trưởng dân số (Population growth annual %) của các nước Đông Á - Thái Bình Dương (East Asia and Pacific) của 25 năm gần đây (1999 đến 2023) (nguồn World Bank: https://databank.worldbank.org/indicator/NY.GDP.PCAP.CD/1ff4a498/Popular-Indicators#advancedDownloadOptions)."
   ]
  },
  {
   "cell_type": "markdown",
   "metadata": {},
   "source": [
    "### Câu 7 (1 điểm)\n",
    "\n",
    "\"Trích và mô tả\" tỉ lệ tăng trưởng dân số của Việt Nam."
   ]
  },
  {
   "cell_type": "code",
   "execution_count": null,
   "metadata": {},
   "outputs": [],
   "source": []
  },
  {
   "cell_type": "markdown",
   "metadata": {},
   "source": [
    "### Câu 8 (1 điểm)\n",
    "\n",
    "\"So sánh\" tỉ lệ tăng trưởng dân số của Việt Nam với Thái Lan."
   ]
  },
  {
   "cell_type": "code",
   "execution_count": null,
   "metadata": {},
   "outputs": [],
   "source": []
  },
  {
   "cell_type": "markdown",
   "metadata": {},
   "source": [
    "### Câu 9 (1 điểm)\n",
    "\n",
    "Nước nào có mô hình tăng trưởng dân số giống Việt Nam nhất?"
   ]
  },
  {
   "cell_type": "code",
   "execution_count": null,
   "metadata": {},
   "outputs": [],
   "source": []
  }
 ],
 "metadata": {
  "kernelspec": {
   "display_name": "base",
   "language": "python",
   "name": "python3"
  },
  "language_info": {
   "codemirror_mode": {
    "name": "ipython",
    "version": 3
   },
   "file_extension": ".py",
   "mimetype": "text/x-python",
   "name": "python",
   "nbconvert_exporter": "python",
   "pygments_lexer": "ipython3",
   "version": "3.10.11"
  }
 },
 "nbformat": 4,
 "nbformat_minor": 4
}
